{
 "cells": [
  {
   "cell_type": "markdown",
   "metadata": {},
   "source": [
    "# Key Noun Extraction Notebook"
   ]
  },
  {
   "cell_type": "code",
   "execution_count": 3,
   "metadata": {},
   "outputs": [],
   "source": [
    "# Import necessary libraries\n",
    "import ebooklib\n",
    "from bs4 import BeautifulSoup\n",
    "import os"
   ]
  },
  {
   "cell_type": "code",
   "execution_count": 11,
   "metadata": {},
   "outputs": [
    {
     "name": "stdout",
     "output_type": "stream",
     "text": [
      "<ebooklib.epub.EpubBook object at 0x0000026A8B6377A0>\n",
      "Chapter 1 saved.\n",
      "Chapter 2 saved.\n",
      "Chapter 3 saved.\n",
      "Chapter 4 saved.\n",
      "Chapter 5 saved.\n",
      "Chapter 6 saved.\n",
      "Chapter 7 saved.\n",
      "Chapter 8 saved.\n",
      "Chapter 9 saved.\n",
      "Chapter 10 saved.\n",
      "Chapter 11 saved.\n",
      "Chapter 12 saved.\n",
      "Chapter 13 saved.\n",
      "Chapter 14 saved.\n",
      "Chapter 15 saved.\n",
      "Chapter 16 saved.\n",
      "Chapter 17 saved.\n",
      "Chapter 18 saved.\n",
      "Chapter 19 saved.\n",
      "Chapter 20 saved.\n",
      "Chapter 21 saved.\n",
      "Chapter 22 saved.\n",
      "Chapter 23 saved.\n",
      "Chapter 24 saved.\n",
      "Chapter 25 saved.\n",
      "Chapter 26 saved.\n",
      "Chapter 27 saved.\n",
      "Chapter 28 saved.\n",
      "Chapter 29 saved.\n",
      "Chapter 30 saved.\n",
      "Chapter 31 saved.\n",
      "Chapter 32 saved.\n",
      "Chapter 33 saved.\n",
      "Chapter 34 saved.\n",
      "Chapter 35 saved.\n",
      "Chapter 36 saved.\n",
      "Chapter 37 saved.\n",
      "Chapter 38 saved.\n",
      "Chapter 39 saved.\n",
      "Chapter 40 saved.\n",
      "Chapter 41 saved.\n",
      "Chapter 42 saved.\n",
      "Chapter 43 saved.\n",
      "Chapter 44 saved.\n",
      "Chapter 45 saved.\n",
      "Chapter 46 saved.\n",
      "All chapters extracted and saved!\n"
     ]
    },
    {
     "name": "stderr",
     "output_type": "stream",
     "text": [
      "c:\\Users\\matth\\Documents\\Education\\Cambridge_Work\\IIB\\Project\\IIBProj_Text2CompModel\\.venv\\Lib\\site-packages\\ebooklib\\epub.py:1395: UserWarning: In the future version we will turn default option ignore_ncx to True.\n",
      "  warnings.warn('In the future version we will turn default option ignore_ncx to True.')\n",
      "c:\\Users\\matth\\Documents\\Education\\Cambridge_Work\\IIB\\Project\\IIBProj_Text2CompModel\\.venv\\Lib\\site-packages\\ebooklib\\epub.py:1423: FutureWarning: This search incorrectly ignores the root element, and will be fixed in a future version.  If you rely on the current behaviour, change it to './/xmlns:rootfile[@media-type]'\n",
      "  for root_file in tree.findall('//xmlns:rootfile[@media-type]', namespaces={'xmlns': NAMESPACES['CONTAINERNS']}):\n"
     ]
    }
   ],
   "source": [
    "asset_dir = '../Assets'\n",
    "book_dir = os.path.join(asset_dir, 'FlyingMachines')\n",
    "epub_dir = os.path.join(book_dir, 'flying_machines.epub')\n",
    "\n",
    "# Load corpus\n",
    "book = ebooklib.epub.read_epub(epub_dir)\n",
    "print(book)\n",
    "\n",
    "# Output Directory for chapter text files\n",
    "output_dir = os.path.join(book_dir, 'chapters')\n",
    "if not os.path.exists(output_dir):\n",
    "    os.makedirs(output_dir)\n",
    "\n",
    "chapter_counter = 1\n",
    "\n",
    "# Function to split by heading tags\n",
    "def split_by_heading(soup):\n",
    "    \"\"\"Split content by <h1>, <h2>, or <h3> tags, which usually represent chapters or sections.\"\"\"\n",
    "    chapters = []\n",
    "    current_chapter = []\n",
    "\n",
    "    for tag in soup.find_all(True):\n",
    "        if tag.name in ['h1', 'h2', 'h3']:\n",
    "            if current_chapter:\n",
    "                chapters.append(\"\\n\".join(current_chapter))\n",
    "                current_chapter = []\n",
    "            current_chapter.append(tag.get_text().strip())  # Add the chapter title\n",
    "        else:\n",
    "            current_chapter.append(tag.get_text().strip())\n",
    "    \n",
    "    if current_chapter:\n",
    "        chapters.append(\"\\n\".join(current_chapter))\n",
    "    \n",
    "    return chapters\n",
    "\n",
    "# Extract and save each chapter as a separate text file\n",
    "for item in book.get_items():\n",
    "    if item.get_type() == ebooklib.ITEM_DOCUMENT:\n",
    "        soup = BeautifulSoup(item.get_body_content(), 'html.parser')\n",
    "\n",
    "        # Split content into chapters based on heading tags\n",
    "        chapters = split_by_heading(soup)\n",
    "            \n",
    "        for chapter in chapters:\n",
    "            chapter_text = chapter.strip()\n",
    "            if chapter_text:\n",
    "                # Save each chapter as a separate text file\n",
    "                with open(f'{output_dir}/chapter_{chapter_counter}.txt', 'w', encoding='utf-8') as f:\n",
    "                    f.write(chapter_text)\n",
    "                print(f'Chapter {chapter_counter} saved.')\n",
    "                chapter_counter += 1\n",
    "\n",
    "print('All chapters extracted and saved!')\n"
   ]
  },
  {
   "cell_type": "code",
   "execution_count": 10,
   "metadata": {},
   "outputs": [
    {
     "name": "stdout",
     "output_type": "stream",
     "text": [
      "[('coverpage-wrapper', 'yes'), ('pg-header', 'yes'), ('item5', 'yes'), ('item6', 'yes'), ('pg-footer', 'yes')]\n"
     ]
    }
   ],
   "source": [
    "print(book.spine)"
   ]
  }
 ],
 "metadata": {
  "kernelspec": {
   "display_name": ".venv",
   "language": "python",
   "name": "python3"
  },
  "language_info": {
   "codemirror_mode": {
    "name": "ipython",
    "version": 3
   },
   "file_extension": ".py",
   "mimetype": "text/x-python",
   "name": "python",
   "nbconvert_exporter": "python",
   "pygments_lexer": "ipython3",
   "version": "3.12.2"
  }
 },
 "nbformat": 4,
 "nbformat_minor": 2
}
